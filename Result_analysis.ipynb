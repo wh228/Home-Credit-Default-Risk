{
 "cells": [
  {
   "cell_type": "markdown",
   "metadata": {},
   "source": [
    "# Analysis performance on VAL set"
   ]
  },
  {
   "cell_type": "code",
   "execution_count": 1,
   "metadata": {},
   "outputs": [],
   "source": [
    "import pandas as pd\n",
    "import numpy as np\n",
    "import matplotlib.pyplot as plt\n",
    "import seaborn as sns\n",
    "from sklearn.metrics import classification_report,confusion_matrix,accuracy_score"
   ]
  },
  {
   "cell_type": "markdown",
   "metadata": {},
   "source": [
    "## GRU with max length 20, 3 layers"
   ]
  },
  {
   "cell_type": "code",
   "execution_count": 2,
   "metadata": {},
   "outputs": [],
   "source": [
    "rnn3_20 = pd.read_csv('outputs/20181026_rnn3_fix.csv')\n",
    "truth = rnn3_20['truth']\n",
    "pred = rnn3_20['prediction']"
   ]
  },
  {
   "cell_type": "code",
   "execution_count": 3,
   "metadata": {},
   "outputs": [
    {
     "name": "stdout",
     "output_type": "stream",
     "text": [
      "             precision    recall  f1-score   support\n",
      "\n",
      "          0     0.9219    0.9751    0.9477     53554\n",
      "          1     0.2077    0.0733    0.1083      4776\n",
      "\n",
      "avg / total     0.8634    0.9012    0.8790     58330\n",
      "\n"
     ]
    }
   ],
   "source": [
    "print(classification_report(truth, pred, digits=4))"
   ]
  },
  {
   "cell_type": "code",
   "execution_count": 4,
   "metadata": {},
   "outputs": [
    {
     "name": "stdout",
     "output_type": "stream",
     "text": [
      "[[52219  1335]\n",
      " [ 4426   350]]\n",
      "0.9012343562489286\n"
     ]
    }
   ],
   "source": [
    "print(confusion_matrix(truth,pred))\n",
    "print(accuracy_score(truth, pred))"
   ]
  },
  {
   "cell_type": "markdown",
   "metadata": {},
   "source": [
    "## GRU with max length 20, 1 layers"
   ]
  },
  {
   "cell_type": "code",
   "execution_count": 5,
   "metadata": {},
   "outputs": [],
   "source": [
    "rnn1_20 = pd.read_csv('outputs/20181026_rnn1_fix.csv')\n",
    "truth = rnn1_20['truth']\n",
    "pred = rnn1_20['prediction']"
   ]
  },
  {
   "cell_type": "code",
   "execution_count": 6,
   "metadata": {},
   "outputs": [
    {
     "name": "stdout",
     "output_type": "stream",
     "text": [
      "             precision    recall  f1-score   support\n",
      "\n",
      "          0     0.9213    0.9743    0.9471     53554\n",
      "          1     0.1889    0.0670    0.0989      4776\n",
      "\n",
      "avg / total     0.8614    0.9001    0.8776     58330\n",
      "\n"
     ]
    }
   ],
   "source": [
    "print(classification_report(truth, pred, digits=4))"
   ]
  },
  {
   "cell_type": "code",
   "execution_count": 7,
   "metadata": {},
   "outputs": [
    {
     "name": "stdout",
     "output_type": "stream",
     "text": [
      "[[52180  1374]\n",
      " [ 4456   320]]\n",
      "0.900051431510372\n"
     ]
    }
   ],
   "source": [
    "print(confusion_matrix(truth,pred))\n",
    "print(accuracy_score(truth, pred))"
   ]
  },
  {
   "cell_type": "markdown",
   "metadata": {},
   "source": [
    "### Based on average precision, 3 layers GRU preforms better than 1 layer"
   ]
  },
  {
   "cell_type": "markdown",
   "metadata": {},
   "source": [
    "## GRU with max length 50, 3 layers"
   ]
  },
  {
   "cell_type": "code",
   "execution_count": 8,
   "metadata": {},
   "outputs": [],
   "source": [
    "rnn3_50 = pd.read_csv('outputs/20181026_rnn3_50.csv')\n",
    "truth = rnn3_50['truth']\n",
    "pred = rnn3_50['prediction']"
   ]
  },
  {
   "cell_type": "code",
   "execution_count": 9,
   "metadata": {},
   "outputs": [
    {
     "name": "stdout",
     "output_type": "stream",
     "text": [
      "             precision    recall  f1-score   support\n",
      "\n",
      "          0     0.9237    0.9634    0.9431     53554\n",
      "          1     0.2078    0.1076    0.1418      4776\n",
      "\n",
      "avg / total     0.8651    0.8933    0.8775     58330\n",
      "\n"
     ]
    }
   ],
   "source": [
    "print(classification_report(truth, pred, digits=4))"
   ]
  },
  {
   "cell_type": "code",
   "execution_count": 10,
   "metadata": {},
   "outputs": [
    {
     "name": "stdout",
     "output_type": "stream",
     "text": [
      "[[51595  1959]\n",
      " [ 4262   514]]\n",
      "0.8933481913252186\n"
     ]
    }
   ],
   "source": [
    "print(confusion_matrix(truth,pred))\n",
    "print(accuracy_score(truth, pred))"
   ]
  },
  {
   "cell_type": "markdown",
   "metadata": {},
   "source": [
    "### Based on average precision, 3 layers GRU preforms better than 1 layer"
   ]
  },
  {
   "cell_type": "markdown",
   "metadata": {},
   "source": [
    "## ROC curve, P-R curve"
   ]
  },
  {
   "cell_type": "code",
   "execution_count": 11,
   "metadata": {},
   "outputs": [],
   "source": [
    "from sklearn.metrics import roc_curve, auc, precision_recall_curve, average_precision_score"
   ]
  },
  {
   "cell_type": "code",
   "execution_count": 12,
   "metadata": {},
   "outputs": [],
   "source": [
    "df = pd.read_csv('outputs/20181026_rnn3_50_auc.csv')\n",
    "y_true_1 = df['truth'].values\n",
    "y_true_0 = 1 - y_true_1\n",
    "y_score = df[['0','1']].values"
   ]
  },
  {
   "cell_type": "code",
   "execution_count": 13,
   "metadata": {},
   "outputs": [
    {
     "data": {
      "image/png": "[encoded data removed]",
      "text/plain": [
       "<matplotlib.figure.Figure at 0x7efeb80bfb00>"
      ]
     },
     "metadata": {},
     "output_type": "display_data"
    }
   ],
   "source": [
    "fpr = dict()\n",
    "tpr = dict()\n",
    "roc_auc = dict()\n",
    "\n",
    "fpr[0], tpr[0], _ = roc_curve(y_true_0, y_score[:, 0])\n",
    "roc_auc[0] = auc(fpr[0], tpr[0])\n",
    "fpr[1], tpr[1], _ = roc_curve(y_true_1, y_score[:, 1])\n",
    "roc_auc[1] = auc(fpr[1], tpr[1])\n",
    "\n",
    "plt.figure()\n",
    "plt.plot(fpr[0], tpr[0], lw=3, label='ROC curve of class 0 (area = %0.2f)' % roc_auc[0])\n",
    "plt.plot(fpr[1], tpr[1], lw=3, label='ROC curve of class 1 (area = %0.2f)' % roc_auc[1])\n",
    "plt.plot([0, 1], [0, 1], color='black', lw=2, linestyle='--')\n",
    "plt.xlim([0.0, 1.0])\n",
    "plt.ylim([0.0, 1.05])\n",
    "plt.xlabel('False Positive Rate')\n",
    "plt.ylabel('True Positive Rate')\n",
    "plt.title('Receiver operating characteristic')\n",
    "plt.legend(loc=\"lower right\")\n",
    "plt.show()"
   ]
  },
  {
   "cell_type": "code",
   "execution_count": 14,
   "metadata": {},
   "outputs": [
    {
     "data": {
      "image/png": "[encoded data removed]",
      "text/plain": [
       "<matplotlib.figure.Figure at 0x7efeaff9e780>"
      ]
     },
     "metadata": {},
     "output_type": "display_data"
    }
   ],
   "source": [
    "precision = dict()\n",
    "recall = dict()\n",
    "area = dict()\n",
    "\n",
    "precision[0], recall[0], _ = precision_recall_curve(y_true_0, y_score[:, 0])\n",
    "area[0] = auc(recall[0], precision[0])\n",
    "precision[1], recall[1], _ = precision_recall_curve(y_true_1, y_score[:, 1])\n",
    "area[1] = auc(recall[1], precision[1])\n",
    "\n",
    "y_true_0 = y_true_0.reshape(-1,1)\n",
    "y_true_1 = y_true_1.reshape(-1,1)\n",
    "y_test = np.concatenate((y_true_0, y_true_1), axis=1)\n",
    "average_precision = average_precision_score(y_test, y_score, average='weighted')\n",
    "\n",
    "plt.figure()\n",
    "plt.plot(recall[0], precision[0], lw=3, label='ROC curve of class 0 (area = %0.2f)' % area[0])\n",
    "plt.plot(recall[1], precision[1], lw=3, label='ROC curve of class 1 (area = %0.2f)' % area[1])\n",
    "plt.xlim([0.0, 1.0])\n",
    "plt.ylim([0.0, 1.05])\n",
    "plt.xlabel('Recall')\n",
    "plt.ylabel('Precision')\n",
    "plt.title('2-class Precision-Recall curve: AP={0:0.2f}'.format(average_precision))\n",
    "plt.legend()\n",
    "plt.show()"
   ]
  },
  {
   "cell_type": "code",
   "execution_count": null,
   "metadata": {},
   "outputs": [],
   "source": []
  }
 ],
 "metadata": {
  "kernelspec": {
   "display_name": "Python 3",
   "language": "python",
   "name": "python3"
  },
  "language_info": {
   "codemirror_mode": {
    "name": "ipython",
    "version": 3
   },
   "file_extension": ".py",
   "mimetype": "text/x-python",
   "name": "python",
   "nbconvert_exporter": "python",
   "pygments_lexer": "ipython3",
   "version": "3.6.4"
  }
 },
 "nbformat": 4,
 "nbformat_minor": 2
}
